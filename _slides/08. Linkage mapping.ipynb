{
 "cells": [
  {
   "cell_type": "markdown",
   "metadata": {
    "slideshow": {
     "slide_type": "slide"
    }
   },
   "source": [
    "# Linkage mapping"
   ]
  },
  {
   "cell_type": "markdown",
   "metadata": {},
   "source": [
    "With images from [Genetic Science Learning Center Pigeonetics Module](http://learn.genetics.utah.edu/content/pigeons/geneticlinkage/)\n",
    "\n",
    "\"When he received the manuscript of _The Origin of Species_, John Murray, the publisher, sent it to a referee who suggested that Darwin should jettison all that evolution stuff and concentrate on pigeons. \" (Dawkins)"
   ]
  },
  {
   "cell_type": "markdown",
   "metadata": {
    "slideshow": {
     "slide_type": "slide"
    }
   },
   "source": [
    "## Organization of genetic material in eukaryotic cells (like us)"
   ]
  },
  {
   "cell_type": "markdown",
   "metadata": {},
   "source": [
    "![human chromosomes](http://learn.genetics.utah.edu/content/pigeons/sexlinkage/images/sex-linkage-01.jpg)"
   ]
  },
  {
   "cell_type": "markdown",
   "metadata": {
    "slideshow": {
     "slide_type": "subslide"
    }
   },
   "source": [
    "![gene organization](http://learn.genetics.utah.edu/content/pigeons/geneticlinkage/images/linkage-1.jpg)"
   ]
  },
  {
   "cell_type": "markdown",
   "metadata": {
    "slideshow": {
     "slide_type": "subslide"
    }
   },
   "source": [
    "![homologous recombination](http://learn.genetics.utah.edu/content/pigeons/geneticlinkage/images/linkage-3.jpg)"
   ]
  },
  {
   "cell_type": "markdown",
   "metadata": {
    "slideshow": {
     "slide_type": "subslide"
    }
   },
   "source": [
    "![chromosome organization](http://learn.genetics.utah.edu/content/pigeons/geneticlinkage/images/linkage-2.jpg)"
   ]
  },
  {
   "cell_type": "markdown",
   "metadata": {
    "slideshow": {
     "slide_type": "subslide"
    }
   },
   "source": [
    "![linked vs not linked](http://learn.genetics.utah.edu/content/pigeons/geneticlinkage/images/linkage-4.jpg)\n",
    "\n",
    "- Recombination occurs during the production of gametes (reproductive cells)\n",
    "- This process generates genetic diversity in the next generation"
   ]
  },
  {
   "cell_type": "markdown",
   "metadata": {
    "slideshow": {
     "slide_type": "subslide"
    }
   },
   "source": [
    "## Linkage map"
   ]
  },
  {
   "cell_type": "markdown",
   "metadata": {},
   "source": [
    "![caption](http://learn.genetics.utah.edu/content/pigeons/geneticlinkage/images/linkage-5.jpg)"
   ]
  },
  {
   "cell_type": "markdown",
   "metadata": {
    "slideshow": {
     "slide_type": "slide"
    }
   },
   "source": [
    "## Linkage maps: how can we compute them?"
   ]
  },
  {
   "cell_type": "markdown",
   "metadata": {},
   "source": [
    "- They allow us to map traits"
   ]
  },
  {
   "cell_type": "markdown",
   "metadata": {
    "slideshow": {
     "slide_type": "subslide"
    }
   },
   "source": [
    "## Donahue's mapping of blood groups"
   ]
  },
  {
   "cell_type": "markdown",
   "metadata": {},
   "source": [
    "![uncoiler (Un) element](http://www.nature.com/scitable/content/6194/PNAS_949-f1_mid_1.jpg)\n",
    "\n",
    "Two pairs of chromosome 1, with the leftmost one having an uncoiler element.\n",
    "\n",
    "Source: [Chial, H. (2008) Gene mapping and disease. Nature Education 1(1):50](http://www.nature.com/scitable/topicpage/gene-mapping-and-disease-34600)"
   ]
  },
  {
   "cell_type": "markdown",
   "metadata": {
    "slideshow": {
     "slide_type": "subslide"
    }
   },
   "source": [
    "Using the visible marker on chromosome 1, Donahue looked at the Duffy blood group antigens, which has two alleles **a** and **b**"
   ]
  },
  {
   "cell_type": "markdown",
   "metadata": {
    "slideshow": {
     "slide_type": "fragment"
    }
   },
   "source": [
    "<img src=\"http://www.nature.com/scitable/content/6251/PNAS_949-f3_mid_1.jpg\" style=\"width: 600px;\"/>"
   ]
  },
  {
   "cell_type": "markdown",
   "metadata": {
    "slideshow": {
     "slide_type": "fragment"
    }
   },
   "source": [
    "Donahue found that the Duffy gene is physically linked to the uncoiler region, and but this linkage is broken in ~2.5 meiotic events in 100."
   ]
  },
  {
   "cell_type": "markdown",
   "metadata": {
    "slideshow": {
     "slide_type": "fragment"
    }
   },
   "source": [
    "- Typically, we don't use chromosomal features for mapping genes anymore\n",
    "- Today this is done by looking at genetic sequence samples from defined chromosomal regions\n",
    "- In the phage lab, we'll do an analysis similar to Donahue's but with bacteriophage"
   ]
  },
  {
   "cell_type": "markdown",
   "metadata": {
    "slideshow": {
     "slide_type": "slide"
    }
   },
   "source": [
    "## Computing genetic maps"
   ]
  },
  {
   "cell_type": "markdown",
   "metadata": {},
   "source": [
    "![pr](http://cgslab.com/phenotypes/colorDrawing/107_thumb.jpg)\n",
    "![vg](http://cgslab.com/phenotypes/bwDrawing/148_thumb.jpg)"
   ]
  },
  {
   "cell_type": "markdown",
   "metadata": {
    "slideshow": {
     "slide_type": "fragment"
    }
   },
   "source": [
    "Consider the following cross between:\n",
    "![Fruit fly offspring](http://www.ncbi.nlm.nih.gov/books/NBK21827/bin/ch5e11.jpg)\n",
    "- 11% of the female gametes are recombinant\n",
    "- This percentage can be used as a linear distance between two genes on a genetic map\n",
    "- 1% of recombinants is known as a **map unit**, measured in **centimorgans (cM)**, after T. H. Morgan"
   ]
  },
  {
   "cell_type": "markdown",
   "metadata": {
    "slideshow": {
     "slide_type": "subslide"
    }
   },
   "source": [
    "### Genes farther away from each other have more recombination events"
   ]
  },
  {
   "cell_type": "markdown",
   "metadata": {},
   "source": [
    "<img src=\"http://www.ncbi.nlm.nih.gov/books/NBK21827/bin/ch5f9.jpg\" style=\"width: 500px;\"/>"
   ]
  },
  {
   "cell_type": "markdown",
   "metadata": {
    "slideshow": {
     "slide_type": "subslide"
    }
   },
   "source": [
    "### Linkage maps are additive"
   ]
  },
  {
   "cell_type": "markdown",
   "metadata": {},
   "source": [
    "![](http://www.ncbi.nlm.nih.gov/books/NBK21827/bin/ch5f10.jpg)"
   ]
  },
  {
   "cell_type": "markdown",
   "metadata": {
    "slideshow": {
     "slide_type": "fragment"
    }
   },
   "source": [
    "- Looking at pairwise recombination rates between many markers we can create ordered maps for whole chromosomes\n",
    "![](http://genome.cshlp.org/content/15/6/885/F2.large.jpg)"
   ]
  },
  {
   "cell_type": "markdown",
   "metadata": {
    "slideshow": {
     "slide_type": "slide"
    }
   },
   "source": [
    "## How do we know what gene is responsible for a phenotype?"
   ]
  },
  {
   "cell_type": "markdown",
   "metadata": {
    "slideshow": {
     "slide_type": "subslide"
    }
   },
   "source": [
    "#### We can make a guess based on our knowledge of biochemistry (candidate gene approach)"
   ]
  },
  {
   "cell_type": "markdown",
   "metadata": {},
   "source": [
    "For example, Harris and Hopkinson predicted that there should be genotypic and phenotypic variability in *acid phosphatase*, which hydrolyzes phosphates in at an acid pH. They found that red-cell acid phosphatase activity correlates with of different genotypes:\n",
    "![](http://www.ncbi.nlm.nih.gov/books/NBK22110/bin/ch25f11.jpg)"
   ]
  },
  {
   "cell_type": "markdown",
   "metadata": {
    "slideshow": {
     "slide_type": "subslide"
    }
   },
   "source": [
    "#### We can also find loci using marker-gene segregation (quantitative trait locus (QTL) analysis)"
   ]
  },
  {
   "cell_type": "markdown",
   "metadata": {},
   "source": [
    "<img src=\"http://www.nature.com/nrg/journal/v10/n8/images/nrg2612-i1.jpg\" style=\"width: 600px;\"/>"
   ]
  },
  {
   "cell_type": "markdown",
   "metadata": {
    "slideshow": {
     "slide_type": "slide"
    }
   },
   "source": [
    "## Special case: sex linkage"
   ]
  },
  {
   "cell_type": "markdown",
   "metadata": {
    "slideshow": {
     "slide_type": "subslide"
    }
   },
   "source": [
    "![sex linked trait](http://learn.genetics.utah.edu/content/pigeons/sexlinkage/images/sex-linkage-02.jpg)"
   ]
  },
  {
   "cell_type": "markdown",
   "metadata": {
    "slideshow": {
     "slide_type": "subslide"
    }
   },
   "source": [
    "![colorblindness](http://learn.genetics.utah.edu/content/pigeons/sexlinkage/images/sex-linkage-04b.jpg)"
   ]
  },
  {
   "cell_type": "markdown",
   "metadata": {
    "slideshow": {
     "slide_type": "slide"
    }
   },
   "source": [
    "# Bacteria and bacteriophage\n",
    "![](http://images.medicaldaily.com/sites/medicaldaily.com/files/styles/full_breakpoints_theme_medicaldaily_desktop_1x/public/2013/12/03/bacteriophage.jpg)"
   ]
  },
  {
   "cell_type": "markdown",
   "metadata": {
    "slideshow": {
     "slide_type": "subslide"
    }
   },
   "source": [
    "### T4 phage genome\n",
    "![](http://www.phage.org/images/thebacteriophages/0180_figure_006.gif)"
   ]
  },
  {
   "cell_type": "markdown",
   "metadata": {
    "slideshow": {
     "slide_type": "subslide"
    }
   },
   "source": [
    "## Lytic and lysogenic phage"
   ]
  },
  {
   "cell_type": "markdown",
   "metadata": {},
   "source": [
    "![](http://textbookofbacteriology.net/lysogeny.jpg)"
   ]
  },
  {
   "cell_type": "markdown",
   "metadata": {
    "slideshow": {
     "slide_type": "subslide"
    }
   },
   "source": [
    "## Co-infection"
   ]
  },
  {
   "cell_type": "markdown",
   "metadata": {},
   "source": [
    "<img src=\"https://upload.wikimedia.org/wikipedia/commons/5/52/Phage.jpg\" style=\"width: 400px;\"/>"
   ]
  },
  {
   "cell_type": "markdown",
   "metadata": {
    "slideshow": {
     "slide_type": "subslide"
    }
   },
   "source": [
    "## Complementation"
   ]
  },
  {
   "cell_type": "markdown",
   "metadata": {},
   "source": [
    "<img src=\"http://what-when-how.com/wp-content/uploads/2011/05/tmp2194_thumb1.jpg\" align=\"middle\" style=\"width: 400; overflow: hidden; margin: 0px 0px -490px 0px;\"/>"
   ]
  }
 ],
 "metadata": {
  "celltoolbar": "Slideshow",
  "kernelspec": {
   "display_name": "IPython (Python 3)",
   "language": "python",
   "name": "python3"
  },
  "language_info": {
   "codemirror_mode": {
    "name": "ipython",
    "version": 3
   },
   "file_extension": ".py",
   "mimetype": "text/x-python",
   "name": "python",
   "nbconvert_exporter": "python",
   "pygments_lexer": "ipython3",
   "version": "3.5.0"
  }
 },
 "nbformat": 4,
 "nbformat_minor": 0
}
